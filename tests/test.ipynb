{
 "cells": [
  {
   "cell_type": "code",
   "execution_count": null,
   "id": "874c75ef",
   "metadata": {},
   "outputs": [],
   "source": [
    "from laevitas_api import get_OptTrades, get_OptSnapshot, get_FutSnapshot, get_lav_implied_vol\n",
    "from laevitas_api import utilities as ut"
   ]
  },
  {
   "cell_type": "code",
   "execution_count": null,
   "id": "34f62d77",
   "metadata": {},
   "outputs": [],
   "source": [
    "exchange = \"DERIBIT\"\n",
    "theCoin = \"BTC\"\n",
    "beg_date = \"2025-08-15\"\n",
    "end_date = \"2025-08-25\"\n",
    "freq = \"1h\"\n",
    "\n",
    "daily_df = get_OptSnapshot(exchange,theCoin,beg_date,end_date,freq)"
   ]
  }
 ],
 "metadata": {
  "kernelspec": {
   "display_name": ".venv",
   "language": "python",
   "name": "python3"
  },
  "language_info": {
   "codemirror_mode": {
    "name": "ipython",
    "version": 3
   },
   "file_extension": ".py",
   "mimetype": "text/x-python",
   "name": "python",
   "nbconvert_exporter": "python",
   "pygments_lexer": "ipython3",
   "version": "3.13.7"
  }
 },
 "nbformat": 4,
 "nbformat_minor": 5
}
